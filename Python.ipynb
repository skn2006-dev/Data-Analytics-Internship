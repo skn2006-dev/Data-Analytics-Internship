{
 "cells": [
  {
   "cell_type": "code",
   "execution_count": 1,
   "id": "2ac49a43",
   "metadata": {},
   "outputs": [
    {
     "name": "stdout",
     "output_type": "stream",
     "text": [
      "10 21\n"
     ]
    }
   ],
   "source": [
    "a=10\n",
    "b=21\n",
    "print(a,b)"
   ]
  },
  {
   "cell_type": "code",
   "execution_count": 2,
   "id": "1e85eebf",
   "metadata": {},
   "outputs": [
    {
     "name": "stdout",
     "output_type": "stream",
     "text": [
      "Hello World\n"
     ]
    }
   ],
   "source": [
    "print(\"Hello World\")"
   ]
  },
  {
   "cell_type": "code",
   "execution_count": 3,
   "id": "52882dba",
   "metadata": {},
   "outputs": [
    {
     "name": "stdout",
     "output_type": "stream",
     "text": [
      "10\n"
     ]
    }
   ],
   "source": [
    "#integer\n",
    "a=10\n",
    "print(a)"
   ]
  },
  {
   "cell_type": "code",
   "execution_count": 4,
   "id": "87f8d529",
   "metadata": {},
   "outputs": [
    {
     "name": "stdout",
     "output_type": "stream",
     "text": [
      "Hello\n"
     ]
    }
   ],
   "source": [
    "a=\"Hello\"\n",
    "print(a)"
   ]
  },
  {
   "cell_type": "code",
   "execution_count": 5,
   "id": "34dfb173",
   "metadata": {},
   "outputs": [
    {
     "name": "stdout",
     "output_type": "stream",
     "text": [
      "1.14\n"
     ]
    }
   ],
   "source": [
    "#float\n",
    "a=1.14\n",
    "print(a)"
   ]
  },
  {
   "cell_type": "code",
   "execution_count": 6,
   "id": "04281c55",
   "metadata": {},
   "outputs": [
    {
     "name": "stdout",
     "output_type": "stream",
     "text": [
      "[2, 3, 4, 5, 9]\n"
     ]
    }
   ],
   "source": [
    "#list\n",
    "a=[2,3,4,5,9]\n",
    "print(a)"
   ]
  },
  {
   "cell_type": "code",
   "execution_count": 7,
   "id": "7431b064",
   "metadata": {},
   "outputs": [
    {
     "name": "stdout",
     "output_type": "stream",
     "text": [
      "(1, 2, 3, 4)\n"
     ]
    }
   ],
   "source": [
    "#tuple\n",
    "a=(1,2,3,4)\n",
    "print(a)"
   ]
  },
  {
   "cell_type": "code",
   "execution_count": 8,
   "id": "2b2baade",
   "metadata": {},
   "outputs": [
    {
     "name": "stdout",
     "output_type": "stream",
     "text": [
      "1 2 3\n"
     ]
    }
   ],
   "source": [
    "a,b,c=1,2,3\n",
    "print(a,b,c)"
   ]
  },
  {
   "cell_type": "code",
   "execution_count": 9,
   "id": "4f879d3a",
   "metadata": {},
   "outputs": [
    {
     "name": "stdout",
     "output_type": "stream",
     "text": [
      " It run on an Interpretor system meaning that code \n"
     ]
    }
   ],
   "source": [
    "a= ''' It run on an Interpretor system meaning that code '''\n",
    "print(a)"
   ]
  },
  {
   "cell_type": "code",
   "execution_count": 10,
   "id": "5ffc0698",
   "metadata": {},
   "outputs": [
    {
     "name": "stdout",
     "output_type": "stream",
     "text": [
      "0\n"
     ]
    }
   ],
   "source": [
    "a=4%2\n",
    "print(a)"
   ]
  },
  {
   "cell_type": "code",
   "execution_count": 11,
   "id": "20740495",
   "metadata": {},
   "outputs": [
    {
     "name": "stdout",
     "output_type": "stream",
     "text": [
      "1.0\n"
     ]
    }
   ],
   "source": [
    "a=b/2\n",
    "print(a)"
   ]
  },
  {
   "cell_type": "code",
   "execution_count": 12,
   "id": "536de78b",
   "metadata": {},
   "outputs": [
    {
     "data": {
      "text/plain": [
       "False"
      ]
     },
     "execution_count": 12,
     "metadata": {},
     "output_type": "execute_result"
    }
   ],
   "source": [
    "a=\"1\"\n",
    "b=\"2\"\n",
    "a==b"
   ]
  },
  {
   "cell_type": "code",
   "execution_count": 13,
   "id": "934dda1c",
   "metadata": {},
   "outputs": [
    {
     "data": {
      "text/plain": [
       "True"
      ]
     },
     "execution_count": 13,
     "metadata": {},
     "output_type": "execute_result"
    }
   ],
   "source": [
    "a=\"1\"\n",
    "b=\"2\"\n",
    "a!=b"
   ]
  },
  {
   "cell_type": "code",
   "execution_count": 14,
   "id": "14c3d55c",
   "metadata": {},
   "outputs": [
    {
     "data": {
      "text/plain": [
       "True"
      ]
     },
     "execution_count": 14,
     "metadata": {},
     "output_type": "execute_result"
    }
   ],
   "source": [
    "a=\"1\"\n",
    "b=\"2\"\n",
    "a<=b"
   ]
  },
  {
   "cell_type": "code",
   "execution_count": 15,
   "id": "75f538e7",
   "metadata": {},
   "outputs": [
    {
     "data": {
      "text/plain": [
       "False"
      ]
     },
     "execution_count": 15,
     "metadata": {},
     "output_type": "execute_result"
    }
   ],
   "source": [
    "a=\"1\"\n",
    "b=\"2\"\n",
    "a>=b"
   ]
  },
  {
   "cell_type": "code",
   "execution_count": 16,
   "id": "831ee891",
   "metadata": {},
   "outputs": [
    {
     "data": {
      "text/plain": [
       "'A'"
      ]
     },
     "execution_count": 16,
     "metadata": {},
     "output_type": "execute_result"
    }
   ],
   "source": [
    "chr(65)"
   ]
  },
  {
   "cell_type": "code",
   "execution_count": 17,
   "id": "d4fc8b38",
   "metadata": {},
   "outputs": [
    {
     "data": {
      "text/plain": [
       "'t'"
      ]
     },
     "execution_count": 17,
     "metadata": {},
     "output_type": "execute_result"
    }
   ],
   "source": [
    "chr(116)"
   ]
  },
  {
   "cell_type": "code",
   "execution_count": 18,
   "id": "ca0b274c",
   "metadata": {},
   "outputs": [
    {
     "data": {
      "text/plain": [
       "'\\x10'"
      ]
     },
     "execution_count": 18,
     "metadata": {},
     "output_type": "execute_result"
    }
   ],
   "source": [
    "chr(16)"
   ]
  },
  {
   "cell_type": "code",
   "execution_count": 19,
   "id": "a62ab8e2",
   "metadata": {},
   "outputs": [
    {
     "data": {
      "text/plain": [
       "'\\x07'"
      ]
     },
     "execution_count": 19,
     "metadata": {},
     "output_type": "execute_result"
    }
   ],
   "source": [
    "chr(7)"
   ]
  },
  {
   "cell_type": "code",
   "execution_count": 20,
   "id": "09c6a74d",
   "metadata": {},
   "outputs": [
    {
     "data": {
      "text/plain": [
       "False"
      ]
     },
     "execution_count": 20,
     "metadata": {},
     "output_type": "execute_result"
    }
   ],
   "source": [
    "a=5\n",
    "b=6\n",
    "c=7\n",
    "a>c and c<a"
   ]
  },
  {
   "cell_type": "code",
   "execution_count": 21,
   "id": "9d2be68c",
   "metadata": {},
   "outputs": [
    {
     "data": {
      "text/plain": [
       "True"
      ]
     },
     "execution_count": 21,
     "metadata": {},
     "output_type": "execute_result"
    }
   ],
   "source": [
    "a=5\n",
    "b=6\n",
    "c=7\n",
    "a<c or a>b"
   ]
  },
  {
   "cell_type": "code",
   "execution_count": 22,
   "id": "b5e61fe2",
   "metadata": {},
   "outputs": [
    {
     "data": {
      "text/plain": [
       "True"
      ]
     },
     "execution_count": 22,
     "metadata": {},
     "output_type": "execute_result"
    }
   ],
   "source": [
    "a=5\n",
    "b=6\n",
    "c=7\n",
    "b!=c or a>b"
   ]
  },
  {
   "cell_type": "code",
   "execution_count": 23,
   "id": "6a4c56f3",
   "metadata": {},
   "outputs": [
    {
     "data": {
      "text/plain": [
       "True"
      ]
     },
     "execution_count": 23,
     "metadata": {},
     "output_type": "execute_result"
    }
   ],
   "source": [
    "a=5\n",
    "b=6\n",
    "c=7\n",
    "c==b or b!=a"
   ]
  },
  {
   "cell_type": "code",
   "execution_count": 24,
   "id": "a7015db9",
   "metadata": {},
   "outputs": [
    {
     "name": "stdout",
     "output_type": "stream",
     "text": [
      "10\n"
     ]
    }
   ],
   "source": [
    "a=10\n",
    "if a==10:\n",
    "    print(a)\n",
    "else:\n",
    "    print(\"not equal\")"
   ]
  },
  {
   "cell_type": "code",
   "execution_count": 25,
   "id": "4f02a954",
   "metadata": {},
   "outputs": [
    {
     "name": "stdout",
     "output_type": "stream",
     "text": [
      "10\n"
     ]
    }
   ],
   "source": [
    "a=10\n",
    "if a>=10:\n",
    "    print(a)\n",
    "else:\n",
    "    print(\"not equal\")"
   ]
  },
  {
   "cell_type": "code",
   "execution_count": 31,
   "id": "7eb551d5",
   "metadata": {},
   "outputs": [
    {
     "name": "stdout",
     "output_type": "stream",
     "text": [
      "The number is odd\n"
     ]
    }
   ],
   "source": [
    "number=int(input(\"Enter a number\"))\n",
    "if number%2 == 0:\n",
    "    print(\"The number is even\")\n",
    "elif number%2 == 1:\n",
    "    print(\"The number is odd\")\n",
    "else:\n",
    "    print(\"Invalid Input\")    "
   ]
  },
  {
   "cell_type": "code",
   "execution_count": 32,
   "id": "0b00c999",
   "metadata": {},
   "outputs": [
    {
     "name": "stdout",
     "output_type": "stream",
     "text": [
      "Grade A\n"
     ]
    }
   ],
   "source": [
    "marks=int(input(\"Enter your Marks\"))\n",
    "if marks>=90:\n",
    "    print(\"Grade A\")\n",
    "elif marks>=70:\n",
    "    print(\"Grade B\")\n",
    "elif marks >=50:\n",
    "    print(\"Grade C\")\n",
    "else:\n",
    "    print(\"Fail\")   "
   ]
  },
  {
   "cell_type": "code",
   "execution_count": 33,
   "id": "2e2304df",
   "metadata": {},
   "outputs": [
    {
     "name": "stdout",
     "output_type": "stream",
     "text": [
      "You are eligible to vote\n"
     ]
    }
   ],
   "source": [
    "age=int(input(\"Enter your age\"))\n",
    "if age >=18:\n",
    "    print(\"You are eligible to vote\")\n",
    "else:\n",
    "    print(\"You are not eligible to vote\")"
   ]
  },
  {
   "cell_type": "code",
   "execution_count": 22,
   "id": "f7f9f9bf",
   "metadata": {},
   "outputs": [
    {
     "name": "stdout",
     "output_type": "stream",
     "text": [
      "Hello World01\n",
      " hi nivi\n"
     ]
    },
    {
     "data": {
      "text/plain": [
       "'Hello World01'"
      ]
     },
     "execution_count": 22,
     "metadata": {},
     "output_type": "execute_result"
    }
   ],
   "source": [
    "a= \"Hello World01\"\n",
    "name=\" hi nivi\"\n",
    "d=name.split(\" \")\n",
    "print(a)\n",
    "print(name)\n",
    "name.capitalize()\n",
    "name.title()\n",
    "a.upper()\n",
    "a.lower()\n",
    "a.isupper()\n",
    "a.isnumeric()\n",
    "a.isalnum()\n",
    "a.replace(\"Hello\",\"chocolate\")\n",
    "\"\".join(a)"
   ]
  },
  {
   "cell_type": "code",
   "execution_count": 23,
   "id": "8c6853c8",
   "metadata": {},
   "outputs": [
    {
     "data": {
      "text/plain": [
       "' hi nivi'"
      ]
     },
     "execution_count": 23,
     "metadata": {},
     "output_type": "execute_result"
    }
   ],
   "source": [
    "a= \"Hello World01\"\n",
    "name=\" hi nivi\"\n",
    "d=name.split(\" \")\n",
    "\" \".join(d)"
   ]
  },
  {
   "cell_type": "code",
   "execution_count": 26,
   "id": "58010b77",
   "metadata": {},
   "outputs": [
    {
     "name": "stdout",
     "output_type": "stream",
     "text": [
      "10\n",
      "9\n",
      "8\n",
      "7\n",
      "6\n",
      "5\n",
      "4\n",
      "3\n",
      "2\n",
      "1\n"
     ]
    }
   ],
   "source": [
    "for i in range(10,0,-1):\n",
    "    print(i)"
   ]
  },
  {
   "cell_type": "code",
   "execution_count": 18,
   "id": "ba6db7f3",
   "metadata": {},
   "outputs": [
    {
     "data": {
      "text/plain": [
       "['', '', 'Have', 'a', 'nice', 'day', '', '']"
      ]
     },
     "execution_count": 18,
     "metadata": {},
     "output_type": "execute_result"
    }
   ],
   "source": [
    "c=\"  Have a nice day  \"\n",
    "c.strip()\n",
    "c.split(\" \")"
   ]
  },
  {
   "cell_type": "code",
   "execution_count": 27,
   "id": "417f0c21",
   "metadata": {},
   "outputs": [
    {
     "name": "stdout",
     "output_type": "stream",
     "text": [
      "1 0\n",
      "2 0\n",
      "2 1\n",
      "3 0\n",
      "3 1\n",
      "3 2\n"
     ]
    }
   ],
   "source": [
    "for i in range(1,4):\n",
    "  for j in range(0,i):\n",
    "      print(i,j)"
   ]
  },
  {
   "cell_type": "code",
   "execution_count": 29,
   "id": "219f015f",
   "metadata": {},
   "outputs": [
    {
     "name": "stdout",
     "output_type": "stream",
     "text": [
      "0\n",
      "1\n",
      "2\n",
      "3\n",
      "4\n",
      "5\n",
      "6\n",
      "7\n",
      "8\n",
      "9\n"
     ]
    }
   ],
   "source": [
    "for i in range(10):\n",
    "    if i==5:\n",
    "        pass\n",
    "    print(i)"
   ]
  },
  {
   "cell_type": "code",
   "execution_count": 32,
   "id": "a08de98d",
   "metadata": {},
   "outputs": [
    {
     "name": "stdout",
     "output_type": "stream",
     "text": [
      "0\n",
      "1\n",
      "2\n",
      "3\n",
      "4\n",
      "5\n",
      "6\n",
      "7\n",
      "8\n",
      "9\n",
      "10\n"
     ]
    }
   ],
   "source": [
    "a=0\n",
    "while a<=10:\n",
    "    print(a)\n",
    "    a+=1"
   ]
  },
  {
   "cell_type": "code",
   "execution_count": 39,
   "id": "62ea4f93",
   "metadata": {},
   "outputs": [
    {
     "name": "stdout",
     "output_type": "stream",
     "text": [
      "10\n",
      "9\n",
      "8\n",
      "7\n",
      "6\n",
      "5\n",
      "4\n",
      "3\n",
      "2\n",
      "1\n",
      "0\n"
     ]
    }
   ],
   "source": [
    "a=10\n",
    "while a>=0:\n",
    "    print(a)\n",
    "    a-=1"
   ]
  },
  {
   "cell_type": "code",
   "execution_count": null,
   "id": "892e2527",
   "metadata": {},
   "outputs": [],
   "source": []
  },
  {
   "cell_type": "code",
   "execution_count": null,
   "id": "259309ac",
   "metadata": {},
   "outputs": [
    {
     "name": "stdout",
     "output_type": "stream",
     "text": [
      "16\n"
     ]
    }
   ],
   "source": [
    "fact = 4\n",
    "i = 1\n",
    "factorial = 1\n",
    "\n",
    "while i <= fact:\n",
    "    factorial = factorial * i\n",
    "    i = i + 1\n",
    "\n",
    "print(factorial)\n"
   ]
  },
  {
   "cell_type": "code",
   "execution_count": 1,
   "id": "bdca79c3",
   "metadata": {},
   "outputs": [
    {
     "name": "stdout",
     "output_type": "stream",
     "text": [
      "Factorial is 6\n"
     ]
    }
   ],
   "source": [
    "num = int(input(\"Enter a number: \"))\n",
    "fact = 1\n",
    "i = 1\n",
    "\n",
    "while i <= num:\n",
    "    fact = fact * i\n",
    "    i = i + 1\n",
    "\n",
    "print(\"Factorial is\", fact)\n"
   ]
  },
  {
   "cell_type": "code",
   "execution_count": null,
   "id": "40c09010",
   "metadata": {},
   "outputs": [],
   "source": []
  },
  {
   "cell_type": "markdown",
   "id": "5fab7537",
   "metadata": {},
   "source": []
  },
  {
   "cell_type": "code",
   "execution_count": null,
   "id": "2d35288b",
   "metadata": {},
   "outputs": [
    {
     "name": "stdout",
     "output_type": "stream",
     "text": [
      "Welcome to the calculator\n",
      "\n",
      "Choose operation:\n",
      "1. Addition (+)\n",
      "2. Subtraction (-)\n",
      "3. Multiplication (*)\n",
      "4. Division (/)\n",
      "5. Exit\n",
      "Invalid input. Please enter numeric values.\n",
      "\n",
      "Choose operation:\n",
      "1. Addition (+)\n",
      "2. Subtraction (-)\n",
      "3. Multiplication (*)\n",
      "4. Division (/)\n",
      "5. Exit\n",
      "Result: 5.0\n",
      "\n",
      "Choose operation:\n",
      "1. Addition (+)\n",
      "2. Subtraction (-)\n",
      "3. Multiplication (*)\n",
      "4. Division (/)\n",
      "5. Exit\n",
      "Invalid choice. Please enter a number from 1 to 5.\n",
      "\n",
      "Choose operation:\n",
      "1. Addition (+)\n",
      "2. Subtraction (-)\n",
      "3. Multiplication (*)\n",
      "4. Division (/)\n",
      "5. Exit\n",
      "Result: 4.0\n",
      "\n",
      "Choose operation:\n",
      "1. Addition (+)\n",
      "2. Subtraction (-)\n",
      "3. Multiplication (*)\n",
      "4. Division (/)\n",
      "5. Exit\n"
     ]
    }
   ],
   "source": [
    "print(\"Welcome to the calculator\")\n",
    "\n",
    "while True:\n",
    "    print(\"\\nChoose operation:\")\n",
    "    print(\"1. Addition (+)\")\n",
    "    print(\"2. Subtraction (-)\")\n",
    "    print(\"3. Multiplication (*)\")\n",
    "    print(\"4. Division (/)\")\n",
    "    print(\"5. Exit\")\n",
    "\n",
    "    choice = input(\"Enter your choice (1/2/3/4/5): \")\n",
    "\n",
    "    if choice == '5':\n",
    "        print(\"Thank you for using the calculator!\")\n",
    "        break\n",
    "\n",
    "    if choice not in ['1', '2', '3', '4']:\n",
    "        print(\"Invalid choice. Please enter a number from 1 to 5.\")\n",
    "        continue\n",
    "\n",
    "    num1_input = input(\"Enter number 1: \")\n",
    "    num2_input = input(\"Enter number 2: \")\n",
    "\n",
    "    if not (num1_input.replace('.', '', 1).isdigit() and num2_input.replace('.', '', 1).isdigit()):\n",
    "        print(\"Invalid input. Please enter numeric values.\")\n",
    "        continue\n",
    "\n",
    "    num1 = float(num1_input)\n",
    "    num2 = float(num2_input)\n",
    "\n",
    "    if choice == '1':\n",
    "        print(\"Result:\", num1 + num2)\n",
    "    elif choice == '2':\n",
    "        print(\"Result:\", num1 - num2)\n",
    "    elif choice == '3':\n",
    "        print(\"Result:\", num1 * num2)\n",
    "    elif choice == '4':\n",
    "        if num2 != 0:\n",
    "            print(\"Result:\", num1 / num2)\n",
    "        else:\n",
    "            print(\"Error: Cannot divide by zero.\")\n"
   ]
  },
  {
   "cell_type": "code",
   "execution_count": 2,
   "id": "1d06334b",
   "metadata": {},
   "outputs": [
    {
     "name": "stdout",
     "output_type": "stream",
     "text": [
      "Result: 10.0\n",
      "\n",
      "Do you want to continue?\n",
      "1. Yes\n",
      "2. Exit\n",
      "Invalid operator!\n",
      "\n",
      "Do you want to continue?\n",
      "1. Yes\n",
      "2. Exit\n",
      "Thank you for using the calculator!\n"
     ]
    }
   ],
   "source": [
    "while True:\n",
    "    num1 = float(input(\"Enter first number: \"))\n",
    "    operator = input(\"Enter operator (+, -, *, /): \")\n",
    "    num2 = float(input(\"Enter second number: \"))\n",
    "\n",
    "    if operator == '+':\n",
    "        print(\"Result:\", num1 + num2)\n",
    "    elif operator == '-':\n",
    "        print(\"Result:\", num1 - num2)\n",
    "    elif operator == '*':\n",
    "        print(\"Result:\", num1 * num2)\n",
    "    elif operator == '/':\n",
    "        if num2 != 0:\n",
    "            print(\"Result:\", num1 / num2)\n",
    "        else:\n",
    "            print(\"Cannot divide by zero!\")\n",
    "    else:\n",
    "        print(\"Invalid operator!\")\n",
    "\n",
    "    print(\"\\nDo you want to continue?\")\n",
    "    print(\"1. Yes\")\n",
    "    print(\"2. Exit\")\n",
    "\n",
    "    choice = input(\"Enter choice (1/2): \")\n",
    "\n",
    "    if choice == '2':\n",
    "        print(\"Thank you for using the calculator!\")\n",
    "        break\n"
   ]
  },
  {
   "cell_type": "code",
   "execution_count": 33,
   "id": "1cf22feb",
   "metadata": {},
   "outputs": [
    {
     "name": "stdout",
     "output_type": "stream",
     "text": [
      "['apple', 1, 2, 'doll', 4, 'Chocolate']\n",
      "['apple', 'baby', 1, 2, 'doll', 4, 'Chocolate']\n",
      "['apple', 'baby', 'ring', 2, 'doll', 4, 'Chocolate']\n",
      "['apple', 'baby', 'ring', 2, 'doll', 4]\n",
      "['apple', 'baby', 2, 'doll', 4]\n",
      "['apple', 'baby', 2, 'doll', 4, 1.2, 5, 'heaven', 'good', 2.7]\n",
      "['apple', 'baby', 2, 4, 1.2, 5, 'heaven', 'good', 2.7]\n",
      "[2, 3, 4, 5, 6]\n",
      "[6, 5, 4, 3, 2]\n",
      "[16, 5, 4, 3, 2]\n"
     ]
    }
   ],
   "source": [
    "a=[\"apple\",1,2,\"doll\",4]\n",
    "a[0:4]\n",
    "a[1:]\n",
    "a[:3]\n",
    "a.append(\"Chocolate\")\n",
    "print(a)\n",
    "a.insert(1,\"baby\")\n",
    "print(a)\n",
    "a[2]=\"ring\"\n",
    "print(a)\n",
    "a.pop()\n",
    "print(a)\n",
    "a.pop(2)\n",
    "print(a)\n",
    "c=[1.2,5,\"heaven\",\"good\",2.7]\n",
    "a.extend(c)\n",
    "print(a)\n",
    "a.remove(\"doll\")\n",
    "print(a)\n",
    "a.count(2)\n",
    "a.index(4)\n",
    "d=[2,3,4,6,5]\n",
    "d.sort()\n",
    "print(d)\n",
    "d.reverse()\n",
    "print(d)\n",
    "e=d.copy()\n",
    "e[0]=16\n",
    "print(e)"
   ]
  },
  {
   "cell_type": "code",
   "execution_count": 35,
   "id": "c222793d",
   "metadata": {},
   "outputs": [
    {
     "data": {
      "text/plain": [
       "1"
      ]
     },
     "execution_count": 35,
     "metadata": {},
     "output_type": "execute_result"
    }
   ],
   "source": [
    "a=(1,2,3,9,\"pink\")\n",
    "a[0:]\n",
    "a.count(1)"
   ]
  },
  {
   "cell_type": "code",
   "execution_count": 45,
   "id": "756a6071",
   "metadata": {},
   "outputs": [
    {
     "name": "stdout",
     "output_type": "stream",
     "text": [
      "{'name': 'doll', 'age': 19, 'Date of Birth': '19-02-2000', 'address': 'Nagarcoil', 'Phone no': 9789350280}\n",
      "{'name': 'doll', 'age': 19, 'Date of Birth': '19-02-2000', 'address': 'Nagarcoil', 'Phone no': 9789350280, 'colour': 16}\n",
      "{'name': 'doll', 'age': 19, 'Date of Birth': '19-02-2000', 'address': 'Kerala', 'Phone no': 9789350280, 'colour': 16}\n"
     ]
    }
   ],
   "source": [
    "a={\"name\":\"apsara\",\"age\":19,\"Date of Birth\":\"19-02-2000\",\"address\":\"Nagarcoil\",\"Phone no\":9789350280}\n",
    "a[\"name\"]\n",
    "a.get(\"name\")\n",
    "a[\"name\"]=\"doll\"\n",
    "print(a)\n",
    "a[\"colour\"]=16\n",
    "print(a)\n",
    "a.copy()\n",
    "a.update({\"address\":\"Kerala\"})\n",
    "print(a)"
   ]
  },
  {
   "cell_type": "code",
   "execution_count": 47,
   "id": "ec6ec4fc",
   "metadata": {},
   "outputs": [
    {
     "name": "stdout",
     "output_type": "stream",
     "text": [
      "doll\n",
      "19\n",
      "19-02-2000\n",
      "Kerala\n",
      "9789350280\n",
      "16\n"
     ]
    }
   ],
   "source": [
    "for i in a.values():\n",
    "    print(i)"
   ]
  },
  {
   "cell_type": "code",
   "execution_count": 48,
   "id": "ad35d2da",
   "metadata": {},
   "outputs": [
    {
     "name": "stdout",
     "output_type": "stream",
     "text": [
      "{'age': 19, 'Date of Birth': '19-02-2000', 'address': 'Kerala', 'Phone no': 9789350280, 'colour': 16}\n"
     ]
    }
   ],
   "source": [
    "a.pop(\"name\")\n",
    "print(a)"
   ]
  },
  {
   "cell_type": "code",
   "execution_count": 50,
   "id": "586f539e",
   "metadata": {},
   "outputs": [
    {
     "name": "stdout",
     "output_type": "stream",
     "text": [
      "{'age': 19, 'Date of Birth': '19-02-2000', 'address': 'Kerala'}\n"
     ]
    }
   ],
   "source": [
    "a.popitem()\n",
    "print(a)"
   ]
  },
  {
   "cell_type": "code",
   "execution_count": 52,
   "id": "b6b4d308",
   "metadata": {},
   "outputs": [
    {
     "name": "stdout",
     "output_type": "stream",
     "text": [
      "{}\n"
     ]
    }
   ],
   "source": [
    "a.clear()\n",
    "print(a)"
   ]
  },
  {
   "cell_type": "code",
   "execution_count": 19,
   "id": "606b25ae",
   "metadata": {},
   "outputs": [
    {
     "name": "stdout",
     "output_type": "stream",
     "text": [
      "\n",
      "MENU:\n",
      "1. Add Details\n",
      "2. Update Details\n",
      "3. Remove (Pop) a Detail\n",
      "4. Exit\n",
      "\n",
      "Details Added Successfully!\n",
      "\n",
      "Current Details:\n",
      "\n",
      "MENU:\n",
      "1. Add Details\n",
      "2. Update Details\n",
      "3. Remove (Pop) a Detail\n",
      "4. Exit\n",
      "\n",
      "Thank you for using the Student Information System!\n",
      "{'Name': 'nivi', 'Address': 'ngl', 'Phone': '9789350280', 'DOB': '16/07/2006', 'Hobbies': ['gardening', 'drawing'], 'Guardian': 'indira', 'Parents': 'xyz'}\n"
     ]
    }
   ],
   "source": [
    "data = {\n",
    "    \"Name\": \"\",\n",
    "    \"Address\": \"\",\n",
    "    \"Phone\": \"\",\n",
    "    \"DOB\": \"\",\n",
    "    \"Hobbies\": [],\n",
    "    \"Guardian\": \"\",\n",
    "    \"Parents\": \"\"\n",
    "}\n",
    "while True:\n",
    "    print(\"\\nMENU:\")\n",
    "    print(\"1. Add Details\")\n",
    "    print(\"2. Update Details\")\n",
    "    print(\"3. Remove (Pop) a Detail\")\n",
    "    print(\"4. Exit\")\n",
    "    choice = input(\"Enter your choice (1-4): \")\n",
    "    if choice == '1':\n",
    "        data[\"Name\"] = input(\"Enter Name: \")\n",
    "        data[\"Address\"] = input(\"Enter Address: \")\n",
    "        data[\"Phone\"] = input(\"Enter Phone Number: \")\n",
    "        data[\"DOB\"] = input(\"Enter Date of Birth (DD/MM/YYYY): \")\n",
    "        hobbies_count = int(input(\"How many hobbies? \"))\n",
    "        data[\"Hobbies\"] = []\n",
    "        for i in range(hobbies_count):\n",
    "            hobby = input(f\"Enter hobby {i+1}: \")\n",
    "            data[\"Hobbies\"].append(hobby)\n",
    "        data[\"Guardian\"] = input(\"Enter Guardian Name: \")\n",
    "        data[\"Parents\"] = input(\"Enter Parents Details: \")\n",
    "        print(\"\\nDetails Added Successfully!\")\n",
    "    elif choice == '2':\n",
    "        print(\"\\nWhat do you want to update?\")\n",
    "        print(\"1. Name\")\n",
    "        print(\"2. Address\")\n",
    "        print(\"3. Phone\")\n",
    "        print(\"4. DOB\")\n",
    "        print(\"5. Hobbies\")\n",
    "        print(\"6. Guardian\")\n",
    "        print(\"7. Parents\")\n",
    "        update_choice = input(\"Enter your choice: \")\n",
    "        if update_choice == '1':\n",
    "            data[\"Name\"] = input(\"Enter New Name: \")\n",
    "        elif update_choice == '2':\n",
    "            data[\"Address\"] = input(\"Enter New Address: \")\n",
    "        elif update_choice == '3':\n",
    "            data[\"Phone\"] = input(\"Enter New Phone Number: \")\n",
    "        elif update_choice == '4':\n",
    "            data[\"DOB\"] = input(\"Enter New DOB (DD/MM/YYYY): \")\n",
    "        elif update_choice == '5':\n",
    "            hobbies_count = int(input(\"How many new hobbies? \"))\n",
    "            data[\"Hobbies\"] = []\n",
    "            for i in range(hobbies_count):\n",
    "                hobby = input(f\"Enter hobby {i+1}: \")\n",
    "                data[\"Hobbies\"].append(hobby)\n",
    "        elif update_choice == '6':\n",
    "            data[\"Guardian\"] = input(\"Enter New Guardian Name: \")\n",
    "        elif update_choice == '7':\n",
    "            data[\"Parents\"] = input(\"Enter New Parents Details: \")\n",
    "        else:\n",
    "            print(\"Invalid update choice!\")\n",
    "        print(\"\\nDetails Updated Successfully!\")\n",
    "    elif choice == '3':\n",
    "        print(\"\\nWhich detail do you want to remove?\")\n",
    "        print(\"1. Name\")\n",
    "        print(\"2. Address\")\n",
    "        print(\"3. Phone\")\n",
    "        print(\"4. DOB\")\n",
    "        print(\"5. Hobbies\")\n",
    "        print(\"6. Guardian\")\n",
    "        print(\"7. Parents\")\n",
    "        remove_choice = input(\"Enter your choice: \")\n",
    "        if remove_choice == '1':\n",
    "            data.pop(\"Name\")\n",
    "        elif remove_choice == '2':\n",
    "            data.pop(\"Address\")\n",
    "        elif remove_choice == '3':\n",
    "            data.pop(\"Phone\")\n",
    "        elif remove_choice == '4':\n",
    "            data.pop(\"DOB\")\n",
    "        elif remove_choice == '5':\n",
    "            data.pop(\"Hobbies\")\n",
    "        elif remove_choice == '6':\n",
    "            data.pop(\"Guardian\")\n",
    "        elif remove_choice == '7':\n",
    "            data.pop(\"Parents\")\n",
    "        else:\n",
    "            print(\"Invalid remove choice!\")\n",
    "        print(\"\\nDetail Removed Successfully!\")\n",
    "    elif choice == '4':\n",
    "        print(\"\\nThank you for using the Student Information System!\")\n",
    "        break\n",
    "    else:\n",
    "        print(\"\\nInvalid choice! Please select between 1 to 4.\")\n",
    "    print(\"\\nCurrent Details:\")\n",
    "print(data)\n"
   ]
  },
  {
   "cell_type": "code",
   "execution_count": 17,
   "id": "9c3d1753",
   "metadata": {},
   "outputs": [
    {
     "data": {
      "text/plain": [
       "['hi friends']"
      ]
     },
     "execution_count": 17,
     "metadata": {},
     "output_type": "execute_result"
    }
   ],
   "source": [
    "a=\"hi friends\"\n",
    "a.split (\",\")"
   ]
  },
  {
   "cell_type": "code",
   "execution_count": 4,
   "id": "000a8be9",
   "metadata": {},
   "outputs": [
    {
     "name": "stdout",
     "output_type": "stream",
     "text": [
      "your name is nivi\n"
     ]
    }
   ],
   "source": [
    "name=input(\"Enter your name\")\n",
    "print(f\"your name is {name}\")"
   ]
  },
  {
   "cell_type": "code",
   "execution_count": null,
   "id": "3e25b208",
   "metadata": {},
   "outputs": [
    {
     "name": "stdout",
     "output_type": "stream",
     "text": [
      "{2, 'cat', 4, 7}\n",
      "{2, 'cat', 4, 7, 9}\n"
     ]
    }
   ],
   "source": [
    "a={1,2,\"cat\",4,7}\n",
    "a.remove(1)\n",
    "print(a)\n",
    "a.add(9)\n",
    "print(a)\n",
    "\n"
   ]
  },
  {
   "cell_type": "code",
   "execution_count": 11,
   "id": "81944c27",
   "metadata": {},
   "outputs": [
    {
     "name": "stdout",
     "output_type": "stream",
     "text": [
      "Hi\n"
     ]
    }
   ],
   "source": [
    "def hello():\n",
    "  print(\"Hi\")\n",
    "hello()"
   ]
  },
  {
   "cell_type": "code",
   "execution_count": 19,
   "id": "f9510a64",
   "metadata": {},
   "outputs": [
    {
     "name": "stdout",
     "output_type": "stream",
     "text": [
      "3\n"
     ]
    }
   ],
   "source": [
    "def add(a,b):#argument\n",
    "    print(a+b)\n",
    "add(1,2)#parametre"
   ]
  },
  {
   "cell_type": "code",
   "execution_count": 22,
   "id": "52d616c9",
   "metadata": {},
   "outputs": [],
   "source": [
    "def add(a=50,b=20):\n",
    "    return a+b\n",
    "    e=add(50,20)\n",
    "    print(e)"
   ]
  },
  {
   "cell_type": "code",
   "execution_count": 28,
   "id": "8b414f43",
   "metadata": {},
   "outputs": [
    {
     "name": "stdout",
     "output_type": "stream",
     "text": [
      "(1, 2, 3, 4, 5)\n"
     ]
    }
   ],
   "source": [
    "def student(*a):\n",
    "  print(a)\n",
    "student(1,2,3,4,5)"
   ]
  },
  {
   "cell_type": "code",
   "execution_count": 33,
   "id": "d6f5ad59",
   "metadata": {},
   "outputs": [
    {
     "name": "stdout",
     "output_type": "stream",
     "text": [
      "{'a': 1, 'b': 2, 'c': 3}\n"
     ]
    }
   ],
   "source": [
    "def student(**a):\n",
    "    print(a)\n",
    "student(a=1,b=2,c=3)"
   ]
  },
  {
   "cell_type": "code",
   "execution_count": 34,
   "id": "363ce17c",
   "metadata": {},
   "outputs": [
    {
     "data": {
      "text/plain": [
       "(7, -1, 12)"
      ]
     },
     "execution_count": 34,
     "metadata": {},
     "output_type": "execute_result"
    }
   ],
   "source": [
    "def cal(a,b):\n",
    "    add=a+b\n",
    "    sub=a-b\n",
    "    mul=a*b\n",
    "    return (add,sub,mul)\n",
    "cal(3,4)"
   ]
  },
  {
   "cell_type": "code",
   "execution_count": 2,
   "id": "0d59afbb",
   "metadata": {},
   "outputs": [
    {
     "data": {
      "text/plain": [
       "0"
      ]
     },
     "execution_count": 2,
     "metadata": {},
     "output_type": "execute_result"
    }
   ],
   "source": [
    "def s(a):\n",
    "    if a>0:\n",
    "        res=a+s(a-1)\n",
    "        return res\n",
    "    else:\n",
    "        return 0\n",
    "s(0)"
   ]
  },
  {
   "cell_type": "code",
   "execution_count": 6,
   "id": "bb47dd9d",
   "metadata": {},
   "outputs": [
    {
     "data": {
      "text/plain": [
       "5"
      ]
     },
     "execution_count": 6,
     "metadata": {},
     "output_type": "execute_result"
    }
   ],
   "source": [
    "def add(a,b):\n",
    "   add=a+b\n",
    "   return add\n",
    "add(2,3)"
   ]
  },
  {
   "cell_type": "code",
   "execution_count": 3,
   "id": "a59691cd",
   "metadata": {},
   "outputs": [
    {
     "data": {
      "text/plain": [
       "12"
      ]
     },
     "execution_count": 3,
     "metadata": {},
     "output_type": "execute_result"
    },
    {
     "name": "stdout",
     "output_type": "stream",
     "text": [
      "ERROR! Session/line number was not unique in database. History logging moved to new session 174\n"
     ]
    }
   ],
   "source": [
    "x=lambda a,b:a+b\n",
    "x(2,10)"
   ]
  },
  {
   "cell_type": "code",
   "execution_count": 7,
   "id": "d9b90ca2",
   "metadata": {},
   "outputs": [
    {
     "data": {
      "text/plain": [
       "18"
      ]
     },
     "execution_count": 7,
     "metadata": {},
     "output_type": "execute_result"
    }
   ],
   "source": [
    "x=lambda a,b,c:a+b+c\n",
    "x(2,10,6)"
   ]
  },
  {
   "cell_type": "code",
   "execution_count": 5,
   "id": "bb91f1b8",
   "metadata": {},
   "outputs": [
    {
     "data": {
      "text/plain": [
       "dict_items([('name', 'nivi'), ('age', 10)])"
      ]
     },
     "execution_count": 5,
     "metadata": {},
     "output_type": "execute_result"
    }
   ],
   "source": [
    "a={\"name\":\"nivi\",\"age\":10}\n",
    "a.items()\n"
   ]
  },
  {
   "cell_type": "code",
   "execution_count": 7,
   "id": "0fe02421",
   "metadata": {},
   "outputs": [
    {
     "data": {
      "text/plain": [
       "[0, 1, 2, 3]"
      ]
     },
     "execution_count": 7,
     "metadata": {},
     "output_type": "execute_result"
    }
   ],
   "source": [
    "a=[0,1,2,3]\n",
    "a[0:]"
   ]
  },
  {
   "cell_type": "code",
   "execution_count": 8,
   "id": "47839f7c",
   "metadata": {},
   "outputs": [
    {
     "name": "stdout",
     "output_type": "stream",
     "text": [
      "[1, 2, 3, 4]\n"
     ]
    }
   ],
   "source": [
    "a=(1,2,3,4)\n",
    "b=list(a)\n",
    "print(b)"
   ]
  },
  {
   "cell_type": "code",
   "execution_count": 6,
   "id": "0e917280",
   "metadata": {},
   "outputs": [
    {
     "name": "stdout",
     "output_type": "stream",
     "text": [
      "{1, 'age', 'i', 'place'}\n"
     ]
    }
   ],
   "source": [
    "a={\"name\",\"age\",\"place\",1,\"i\"}\n",
    "a.remove(\"name\")\n",
    "print(a)\n"
   ]
  }
 ],
 "metadata": {
  "kernelspec": {
   "display_name": ".conda",
   "language": "python",
   "name": "python3"
  },
  "language_info": {
   "codemirror_mode": {
    "name": "ipython",
    "version": 3
   },
   "file_extension": ".py",
   "mimetype": "text/x-python",
   "name": "python",
   "nbconvert_exporter": "python",
   "pygments_lexer": "ipython3",
   "version": "3.11.13"
  }
 },
 "nbformat": 4,
 "nbformat_minor": 5
}
